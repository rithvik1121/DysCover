{
 "cells": [
  {
   "cell_type": "code",
   "execution_count": 1,
   "metadata": {},
   "outputs": [],
   "source": [
    "#imports\n",
    "import pandas as pd\n",
    "import matplotlib.pyplot as plt\n",
    "import numpy as np\n",
    "import os"
   ]
  },
  {
   "cell_type": "code",
   "execution_count": 4,
   "metadata": {},
   "outputs": [],
   "source": [
    "dir_list = os.listdir('../data/clips/stuttering-clips/clips')"
   ]
  },
  {
   "cell_type": "code",
   "execution_count": 5,
   "metadata": {},
   "outputs": [
    {
     "data": {
      "text/plain": [
       "31908"
      ]
     },
     "execution_count": 5,
     "metadata": {},
     "output_type": "execute_result"
    }
   ],
   "source": [
    "len(dir_list)"
   ]
  },
  {
   "cell_type": "code",
   "execution_count": 131,
   "metadata": {},
   "outputs": [
    {
     "data": {
      "text/plain": [
       "['StrongVoices_8_12.wav',\n",
       " 'WomenWhoStutter_22_24.wav',\n",
       " 'WomenWhoStutter_4_35.wav',\n",
       " 'MyStutteringLife_35_117.wav',\n",
       " 'StrongVoices_17_37.wav',\n",
       " 'WomenWhoStutter_54_29.wav',\n",
       " 'WomenWhoStutter_97_113.wav',\n",
       " 'HeStutters_9_26.wav',\n",
       " 'WomenWhoStutter_50_408.wav',\n",
       " 'StutteringIsCool_7_38.wav']"
      ]
     },
     "execution_count": 131,
     "metadata": {},
     "output_type": "execute_result"
    }
   ],
   "source": [
    "dir_list[:10]"
   ]
  },
  {
   "cell_type": "code",
   "execution_count": 3,
   "metadata": {},
   "outputs": [],
   "source": [
    "for path in dir_list:\n",
    "    if os.stat('../data/clips/stuttering-clips/clips/'+path).st_size==44:\n",
    "        #print(path)\n",
    "        os.remove('../data/clips/stuttering-clips/clips/'+path)"
   ]
  },
  {
   "cell_type": "code",
   "execution_count": 6,
   "metadata": {},
   "outputs": [],
   "source": [
    "flbank = [wav for wav in dir_list if 'FluencyBank' in wav]"
   ]
  },
  {
   "cell_type": "code",
   "execution_count": 7,
   "metadata": {},
   "outputs": [],
   "source": [
    "sepk = [wav for wav in dir_list if 'FluencyBank' not in wav]"
   ]
  },
  {
   "cell_type": "code",
   "execution_count": 8,
   "metadata": {},
   "outputs": [
    {
     "data": {
      "text/plain": [
       "3986"
      ]
     },
     "execution_count": 8,
     "metadata": {},
     "output_type": "execute_result"
    }
   ],
   "source": [
    "len(flbank)"
   ]
  },
  {
   "cell_type": "code",
   "execution_count": 9,
   "metadata": {},
   "outputs": [
    {
     "data": {
      "text/plain": [
       "27922"
      ]
     },
     "execution_count": 9,
     "metadata": {},
     "output_type": "execute_result"
    }
   ],
   "source": [
    "len(sepk)"
   ]
  },
  {
   "cell_type": "code",
   "execution_count": 20,
   "metadata": {},
   "outputs": [
    {
     "data": {
      "text/plain": [
       "['FluencyBank_107_84.wav',\n",
       " 'FluencyBank_089_108.wav',\n",
       " 'FluencyBank_063_131.wav',\n",
       " 'FluencyBank_087_104.wav',\n",
       " 'FluencyBank_109_60.wav',\n",
       " 'FluencyBank_031_24.wav',\n",
       " 'FluencyBank_107_61.wav',\n",
       " 'FluencyBank_132_48.wav',\n",
       " 'FluencyBank_063_165.wav',\n",
       " 'FluencyBank_071_23.wav',\n",
       " 'FluencyBank_016_92.wav',\n",
       " 'FluencyBank_230_20.wav',\n",
       " 'FluencyBank_109_0.wav',\n",
       " 'FluencyBank_017_64.wav',\n",
       " 'FluencyBank_016_41.wav',\n",
       " 'FluencyBank_076_92.wav',\n",
       " 'FluencyBank_132_36.wav',\n",
       " 'FluencyBank_089_0.wav',\n",
       " 'FluencyBank_024_91.wav',\n",
       " 'FluencyBank_089_9.wav']"
      ]
     },
     "execution_count": 20,
     "metadata": {},
     "output_type": "execute_result"
    }
   ],
   "source": [
    "flbank[:20]"
   ]
  },
  {
   "cell_type": "code",
   "execution_count": 29,
   "metadata": {},
   "outputs": [
    {
     "data": {
      "text/plain": [
       "True"
      ]
     },
     "execution_count": 29,
     "metadata": {},
     "output_type": "execute_result"
    }
   ],
   "source": [
    "'FluencyBank_010_0.wav' in flbank"
   ]
  },
  {
   "cell_type": "code",
   "execution_count": 28,
   "metadata": {},
   "outputs": [
    {
     "data": {
      "text/plain": [
       "['StrongVoices_8_12.wav',\n",
       " 'WomenWhoStutter_22_24.wav',\n",
       " 'WomenWhoStutter_4_35.wav',\n",
       " 'MyStutteringLife_35_117.wav',\n",
       " 'StrongVoices_17_37.wav',\n",
       " 'WomenWhoStutter_54_29.wav',\n",
       " 'WomenWhoStutter_97_113.wav',\n",
       " 'HeStutters_9_26.wav',\n",
       " 'WomenWhoStutter_50_408.wav',\n",
       " 'StutteringIsCool_7_38.wav',\n",
       " 'WomenWhoStutter_34_38.wav',\n",
       " 'WomenWhoStutter_98_23.wav',\n",
       " 'StutterTalk_28_31.wav',\n",
       " 'StutteringIsCool_70_28.wav',\n",
       " 'StutterTalk_73_35.wav',\n",
       " 'IStutterSoWhat_1_62.wav',\n",
       " 'StutterTalk_26_17.wav',\n",
       " 'StutteringIsCool_61_24.wav',\n",
       " 'HeStutters_18_91.wav',\n",
       " 'StutterTalk_21_1.wav']"
      ]
     },
     "execution_count": 28,
     "metadata": {},
     "output_type": "execute_result"
    }
   ],
   "source": [
    "sepk[:20]"
   ]
  },
  {
   "cell_type": "code",
   "execution_count": 10,
   "metadata": {},
   "outputs": [],
   "source": [
    "fl_ep = pd.read_csv('../data/fluencybank_episodes.csv')\n",
    "fl_lab = pd.read_csv('../data/fluencybank_labels.csv')\n",
    "sepk_ep = pd.read_csv('../data/SEP-28k_episodes.csv')\n",
    "sepk_lab = pd.read_csv('../data/SEP-28k_labels.csv')"
   ]
  },
  {
   "cell_type": "markdown",
   "metadata": {},
   "source": [
    "# FluencyBank Episodes"
   ]
  },
  {
   "cell_type": "code",
   "execution_count": 3,
   "metadata": {},
   "outputs": [
    {
     "data": {
      "text/html": [
       "<div>\n",
       "<style scoped>\n",
       "    .dataframe tbody tr th:only-of-type {\n",
       "        vertical-align: middle;\n",
       "    }\n",
       "\n",
       "    .dataframe tbody tr th {\n",
       "        vertical-align: top;\n",
       "    }\n",
       "\n",
       "    .dataframe thead th {\n",
       "        text-align: right;\n",
       "    }\n",
       "</style>\n",
       "<table border=\"1\" class=\"dataframe\">\n",
       "  <thead>\n",
       "    <tr style=\"text-align: right;\">\n",
       "      <th></th>\n",
       "      <th>FluencyBank</th>\n",
       "      <th>010</th>\n",
       "      <th>https://media.talkbank.org/fluency/Voices-AWS/interview/46ma.mp4</th>\n",
       "      <th>FluencyBank</th>\n",
       "      <th>010.1</th>\n",
       "    </tr>\n",
       "  </thead>\n",
       "  <tbody>\n",
       "    <tr>\n",
       "      <th>0</th>\n",
       "      <td>FluencyBank</td>\n",
       "      <td>16</td>\n",
       "      <td>https://media.talkbank.org/fluency/Voices-AWS...</td>\n",
       "      <td>FluencyBank</td>\n",
       "      <td>16</td>\n",
       "    </tr>\n",
       "    <tr>\n",
       "      <th>1</th>\n",
       "      <td>FluencyBank</td>\n",
       "      <td>17</td>\n",
       "      <td>https://media.talkbank.org/fluency/Voices-AWS...</td>\n",
       "      <td>FluencyBank</td>\n",
       "      <td>17</td>\n",
       "    </tr>\n",
       "    <tr>\n",
       "      <th>2</th>\n",
       "      <td>FluencyBank</td>\n",
       "      <td>19</td>\n",
       "      <td>https://media.talkbank.org/fluency/Voices-AWS...</td>\n",
       "      <td>FluencyBank</td>\n",
       "      <td>19</td>\n",
       "    </tr>\n",
       "    <tr>\n",
       "      <th>3</th>\n",
       "      <td>FluencyBank</td>\n",
       "      <td>24</td>\n",
       "      <td>https://media.talkbank.org/fluency/Voices-AWS...</td>\n",
       "      <td>FluencyBank</td>\n",
       "      <td>24</td>\n",
       "    </tr>\n",
       "    <tr>\n",
       "      <th>4</th>\n",
       "      <td>FluencyBank</td>\n",
       "      <td>31</td>\n",
       "      <td>https://media.talkbank.org/fluency/Voices-AWS...</td>\n",
       "      <td>FluencyBank</td>\n",
       "      <td>31</td>\n",
       "    </tr>\n",
       "  </tbody>\n",
       "</table>\n",
       "</div>"
      ],
      "text/plain": [
       "   FluencyBank   010  \\\n",
       "0  FluencyBank    16   \n",
       "1  FluencyBank    17   \n",
       "2  FluencyBank    19   \n",
       "3  FluencyBank    24   \n",
       "4  FluencyBank    31   \n",
       "\n",
       "   https://media.talkbank.org/fluency/Voices-AWS/interview/46ma.mp4  \\\n",
       "0   https://media.talkbank.org/fluency/Voices-AWS...                  \n",
       "1   https://media.talkbank.org/fluency/Voices-AWS...                  \n",
       "2   https://media.talkbank.org/fluency/Voices-AWS...                  \n",
       "3   https://media.talkbank.org/fluency/Voices-AWS...                  \n",
       "4   https://media.talkbank.org/fluency/Voices-AWS...                  \n",
       "\n",
       "    FluencyBank   010.1  \n",
       "0   FluencyBank      16  \n",
       "1   FluencyBank      17  \n",
       "2   FluencyBank      19  \n",
       "3   FluencyBank      24  \n",
       "4   FluencyBank      31  "
      ]
     },
     "execution_count": 3,
     "metadata": {},
     "output_type": "execute_result"
    }
   ],
   "source": [
    "fl_ep.head()"
   ]
  },
  {
   "cell_type": "code",
   "execution_count": 21,
   "metadata": {},
   "outputs": [
    {
     "data": {
      "text/plain": [
       "(33, 5)"
      ]
     },
     "execution_count": 21,
     "metadata": {},
     "output_type": "execute_result"
    }
   ],
   "source": [
    "fl_ep.shape"
   ]
  },
  {
   "cell_type": "markdown",
   "metadata": {},
   "source": [
    "# FLuencyBank Labels"
   ]
  },
  {
   "cell_type": "code",
   "execution_count": 119,
   "metadata": {},
   "outputs": [
    {
     "data": {
      "text/html": [
       "<div>\n",
       "<style scoped>\n",
       "    .dataframe tbody tr th:only-of-type {\n",
       "        vertical-align: middle;\n",
       "    }\n",
       "\n",
       "    .dataframe tbody tr th {\n",
       "        vertical-align: top;\n",
       "    }\n",
       "\n",
       "    .dataframe thead th {\n",
       "        text-align: right;\n",
       "    }\n",
       "</style>\n",
       "<table border=\"1\" class=\"dataframe\">\n",
       "  <thead>\n",
       "    <tr style=\"text-align: right;\">\n",
       "      <th></th>\n",
       "      <th>Show</th>\n",
       "      <th>EpId</th>\n",
       "      <th>ClipId</th>\n",
       "      <th>Start</th>\n",
       "      <th>Stop</th>\n",
       "      <th>Unsure</th>\n",
       "      <th>PoorAudioQuality</th>\n",
       "      <th>Prolongation</th>\n",
       "      <th>Block</th>\n",
       "      <th>SoundRep</th>\n",
       "      <th>WordRep</th>\n",
       "      <th>DifficultToUnderstand</th>\n",
       "      <th>Interjection</th>\n",
       "      <th>NoStutteredWords</th>\n",
       "      <th>NaturalPause</th>\n",
       "      <th>Music</th>\n",
       "      <th>NoSpeech</th>\n",
       "    </tr>\n",
       "  </thead>\n",
       "  <tbody>\n",
       "    <tr>\n",
       "      <th>0</th>\n",
       "      <td>FluencyBank</td>\n",
       "      <td>010</td>\n",
       "      <td>0</td>\n",
       "      <td>88960</td>\n",
       "      <td>136960</td>\n",
       "      <td>0</td>\n",
       "      <td>0</td>\n",
       "      <td>0</td>\n",
       "      <td>1</td>\n",
       "      <td>0</td>\n",
       "      <td>0</td>\n",
       "      <td>0</td>\n",
       "      <td>0</td>\n",
       "      <td>2</td>\n",
       "      <td>0</td>\n",
       "      <td>0</td>\n",
       "      <td>0</td>\n",
       "    </tr>\n",
       "    <tr>\n",
       "      <th>1</th>\n",
       "      <td>FluencyBank</td>\n",
       "      <td>010</td>\n",
       "      <td>1</td>\n",
       "      <td>1271520</td>\n",
       "      <td>1319520</td>\n",
       "      <td>0</td>\n",
       "      <td>0</td>\n",
       "      <td>0</td>\n",
       "      <td>0</td>\n",
       "      <td>0</td>\n",
       "      <td>0</td>\n",
       "      <td>0</td>\n",
       "      <td>0</td>\n",
       "      <td>3</td>\n",
       "      <td>0</td>\n",
       "      <td>0</td>\n",
       "      <td>0</td>\n",
       "    </tr>\n",
       "    <tr>\n",
       "      <th>2</th>\n",
       "      <td>FluencyBank</td>\n",
       "      <td>010</td>\n",
       "      <td>2</td>\n",
       "      <td>1813760</td>\n",
       "      <td>1861760</td>\n",
       "      <td>0</td>\n",
       "      <td>0</td>\n",
       "      <td>1</td>\n",
       "      <td>0</td>\n",
       "      <td>0</td>\n",
       "      <td>0</td>\n",
       "      <td>0</td>\n",
       "      <td>0</td>\n",
       "      <td>2</td>\n",
       "      <td>0</td>\n",
       "      <td>0</td>\n",
       "      <td>0</td>\n",
       "    </tr>\n",
       "    <tr>\n",
       "      <th>3</th>\n",
       "      <td>FluencyBank</td>\n",
       "      <td>010</td>\n",
       "      <td>3</td>\n",
       "      <td>1842720</td>\n",
       "      <td>1890720</td>\n",
       "      <td>0</td>\n",
       "      <td>0</td>\n",
       "      <td>1</td>\n",
       "      <td>0</td>\n",
       "      <td>0</td>\n",
       "      <td>0</td>\n",
       "      <td>0</td>\n",
       "      <td>0</td>\n",
       "      <td>2</td>\n",
       "      <td>1</td>\n",
       "      <td>0</td>\n",
       "      <td>0</td>\n",
       "    </tr>\n",
       "    <tr>\n",
       "      <th>4</th>\n",
       "      <td>FluencyBank</td>\n",
       "      <td>010</td>\n",
       "      <td>4</td>\n",
       "      <td>1893280</td>\n",
       "      <td>1941280</td>\n",
       "      <td>0</td>\n",
       "      <td>0</td>\n",
       "      <td>0</td>\n",
       "      <td>0</td>\n",
       "      <td>0</td>\n",
       "      <td>3</td>\n",
       "      <td>0</td>\n",
       "      <td>0</td>\n",
       "      <td>0</td>\n",
       "      <td>0</td>\n",
       "      <td>0</td>\n",
       "      <td>0</td>\n",
       "    </tr>\n",
       "  </tbody>\n",
       "</table>\n",
       "</div>"
      ],
      "text/plain": [
       "          Show EpId  ClipId    Start     Stop  Unsure  PoorAudioQuality  \\\n",
       "0  FluencyBank  010       0    88960   136960       0                 0   \n",
       "1  FluencyBank  010       1  1271520  1319520       0                 0   \n",
       "2  FluencyBank  010       2  1813760  1861760       0                 0   \n",
       "3  FluencyBank  010       3  1842720  1890720       0                 0   \n",
       "4  FluencyBank  010       4  1893280  1941280       0                 0   \n",
       "\n",
       "   Prolongation  Block  SoundRep  WordRep  DifficultToUnderstand  \\\n",
       "0             0      1         0        0                      0   \n",
       "1             0      0         0        0                      0   \n",
       "2             1      0         0        0                      0   \n",
       "3             1      0         0        0                      0   \n",
       "4             0      0         0        3                      0   \n",
       "\n",
       "   Interjection  NoStutteredWords  NaturalPause  Music  NoSpeech  \n",
       "0             0                 2             0      0         0  \n",
       "1             0                 3             0      0         0  \n",
       "2             0                 2             0      0         0  \n",
       "3             0                 2             1      0         0  \n",
       "4             0                 0             0      0         0  "
      ]
     },
     "execution_count": 119,
     "metadata": {},
     "output_type": "execute_result"
    }
   ],
   "source": [
    "fl_lab.head()"
   ]
  },
  {
   "cell_type": "code",
   "execution_count": 125,
   "metadata": {},
   "outputs": [
    {
     "name": "stderr",
     "output_type": "stream",
     "text": [
      "/tmp/ipykernel_192200/1591094063.py:1: UserWarning: Boolean Series key will be reindexed to match DataFrame index.\n",
      "  fl_lab[fl_lab['EpId']=='118'][fl_lab['ClipId']==91]\n"
     ]
    },
    {
     "data": {
      "text/html": [
       "<div>\n",
       "<style scoped>\n",
       "    .dataframe tbody tr th:only-of-type {\n",
       "        vertical-align: middle;\n",
       "    }\n",
       "\n",
       "    .dataframe tbody tr th {\n",
       "        vertical-align: top;\n",
       "    }\n",
       "\n",
       "    .dataframe thead th {\n",
       "        text-align: right;\n",
       "    }\n",
       "</style>\n",
       "<table border=\"1\" class=\"dataframe\">\n",
       "  <thead>\n",
       "    <tr style=\"text-align: right;\">\n",
       "      <th></th>\n",
       "      <th>Show</th>\n",
       "      <th>EpId</th>\n",
       "      <th>ClipId</th>\n",
       "      <th>Start</th>\n",
       "      <th>Stop</th>\n",
       "      <th>Unsure</th>\n",
       "      <th>PoorAudioQuality</th>\n",
       "      <th>Prolongation</th>\n",
       "      <th>Block</th>\n",
       "      <th>SoundRep</th>\n",
       "      <th>WordRep</th>\n",
       "      <th>DifficultToUnderstand</th>\n",
       "      <th>Interjection</th>\n",
       "      <th>NoStutteredWords</th>\n",
       "      <th>NaturalPause</th>\n",
       "      <th>Music</th>\n",
       "      <th>NoSpeech</th>\n",
       "    </tr>\n",
       "  </thead>\n",
       "  <tbody>\n",
       "    <tr>\n",
       "      <th>2723</th>\n",
       "      <td>FluencyBank</td>\n",
       "      <td>118</td>\n",
       "      <td>91</td>\n",
       "      <td>10330720</td>\n",
       "      <td>10378720</td>\n",
       "      <td>0</td>\n",
       "      <td>0</td>\n",
       "      <td>0</td>\n",
       "      <td>0</td>\n",
       "      <td>0</td>\n",
       "      <td>0</td>\n",
       "      <td>0</td>\n",
       "      <td>3</td>\n",
       "      <td>3</td>\n",
       "      <td>0</td>\n",
       "      <td>0</td>\n",
       "      <td>0</td>\n",
       "    </tr>\n",
       "  </tbody>\n",
       "</table>\n",
       "</div>"
      ],
      "text/plain": [
       "             Show EpId  ClipId     Start      Stop  Unsure  PoorAudioQuality  \\\n",
       "2723  FluencyBank  118      91  10330720  10378720       0                 0   \n",
       "\n",
       "      Prolongation  Block  SoundRep  WordRep  DifficultToUnderstand  \\\n",
       "2723             0      0         0        0                      0   \n",
       "\n",
       "      Interjection  NoStutteredWords  NaturalPause  Music  NoSpeech  \n",
       "2723             3                 3             0      0         0  "
      ]
     },
     "execution_count": 125,
     "metadata": {},
     "output_type": "execute_result"
    }
   ],
   "source": [
    "fl_lab[fl_lab['EpId']=='118'][fl_lab['ClipId']==91]"
   ]
  },
  {
   "cell_type": "code",
   "execution_count": null,
   "metadata": {},
   "outputs": [
    {
     "data": {
      "text/plain": [
       "(4144, 17)"
      ]
     },
     "execution_count": 22,
     "metadata": {},
     "output_type": "execute_result"
    }
   ],
   "source": [
    "fl_lab.shape"
   ]
  },
  {
   "cell_type": "code",
   "execution_count": null,
   "metadata": {},
   "outputs": [],
   "source": []
  },
  {
   "cell_type": "code",
   "execution_count": 42,
   "metadata": {},
   "outputs": [
    {
     "data": {
      "text/plain": [
       "EpId\n",
       "24     197\n",
       "985    196\n",
       "97     193\n",
       "99     186\n",
       "230    178\n",
       "63     175\n",
       "178    171\n",
       "111    165\n",
       "81     165\n",
       "121    143\n",
       "89     139\n",
       "98     128\n",
       "46     127\n",
       "219    126\n",
       "193    122\n",
       "71     121\n",
       "87     118\n",
       "16     115\n",
       "118    113\n",
       "147    108\n",
       "10     100\n",
       "132    100\n",
       "107     97\n",
       "76      96\n",
       "96      95\n",
       "93      93\n",
       "19      89\n",
       "218     88\n",
       "179     88\n",
       "109     85\n",
       "31      82\n",
       "173     79\n",
       "17      66\n",
       "Name: count, dtype: int64"
      ]
     },
     "execution_count": 42,
     "metadata": {},
     "output_type": "execute_result"
    }
   ],
   "source": [
    "fl_lab.EpId.value_counts()"
   ]
  },
  {
   "cell_type": "code",
   "execution_count": 32,
   "metadata": {},
   "outputs": [
    {
     "data": {
      "text/plain": [
       "SoundRep\n",
       "0    2996\n",
       "1     599\n",
       "2     372\n",
       "3     177\n",
       "Name: count, dtype: int64"
      ]
     },
     "execution_count": 32,
     "metadata": {},
     "output_type": "execute_result"
    }
   ],
   "source": [
    "fl_lab.SoundRep.value_counts()"
   ]
  },
  {
   "cell_type": "markdown",
   "metadata": {},
   "source": [
    "# SEP Episodes"
   ]
  },
  {
   "cell_type": "code",
   "execution_count": 17,
   "metadata": {},
   "outputs": [
    {
     "data": {
      "text/html": [
       "<div>\n",
       "<style scoped>\n",
       "    .dataframe tbody tr th:only-of-type {\n",
       "        vertical-align: middle;\n",
       "    }\n",
       "\n",
       "    .dataframe tbody tr th {\n",
       "        vertical-align: top;\n",
       "    }\n",
       "\n",
       "    .dataframe thead th {\n",
       "        text-align: right;\n",
       "    }\n",
       "</style>\n",
       "<table border=\"1\" class=\"dataframe\">\n",
       "  <thead>\n",
       "    <tr style=\"text-align: right;\">\n",
       "      <th></th>\n",
       "      <th>He_Stutters_Podcast_–_Make_Room_For_The_Stuttering</th>\n",
       "      <th>episode-208-with-kelsey-h</th>\n",
       "      <th>https://stutterrockstar.files.wordpress.com/2011/05/male-episode-1-with-alan1.mp3</th>\n",
       "      <th>HeStutters</th>\n",
       "      <th>0</th>\n",
       "    </tr>\n",
       "  </thead>\n",
       "  <tbody>\n",
       "    <tr>\n",
       "      <th>0</th>\n",
       "      <td>He_Stutters_Podcast_–_Make_Room_For_The_Stutte...</td>\n",
       "      <td>episode-208-with-kelsey-h</td>\n",
       "      <td>https://stutterrockstar.files.wordpress.com/2...</td>\n",
       "      <td>HeStutters</td>\n",
       "      <td>1</td>\n",
       "    </tr>\n",
       "    <tr>\n",
       "      <th>1</th>\n",
       "      <td>He_Stutters_Podcast_–_Make_Room_For_The_Stutte...</td>\n",
       "      <td>episode-208-with-kelsey-h</td>\n",
       "      <td>https://stutterrockstar.files.wordpress.com/2...</td>\n",
       "      <td>HeStutters</td>\n",
       "      <td>2</td>\n",
       "    </tr>\n",
       "    <tr>\n",
       "      <th>2</th>\n",
       "      <td>He_Stutters_Podcast_–_Make_Room_For_The_Stutte...</td>\n",
       "      <td>episode-208-with-kelsey-h</td>\n",
       "      <td>https://stutterrockstar.files.wordpress.com/2...</td>\n",
       "      <td>HeStutters</td>\n",
       "      <td>3</td>\n",
       "    </tr>\n",
       "    <tr>\n",
       "      <th>3</th>\n",
       "      <td>He_Stutters_Podcast_–_Make_Room_For_The_Stutte...</td>\n",
       "      <td>episode-208-with-kelsey-h</td>\n",
       "      <td>https://stutterrockstar.files.wordpress.com/2...</td>\n",
       "      <td>HeStutters</td>\n",
       "      <td>4</td>\n",
       "    </tr>\n",
       "    <tr>\n",
       "      <th>4</th>\n",
       "      <td>He_Stutters_Podcast_–_Make_Room_For_The_Stutte...</td>\n",
       "      <td>episode-208-with-kelsey-h</td>\n",
       "      <td>https://stutterrockstar.files.wordpress.com/2...</td>\n",
       "      <td>HeStutters</td>\n",
       "      <td>5</td>\n",
       "    </tr>\n",
       "  </tbody>\n",
       "</table>\n",
       "</div>"
      ],
      "text/plain": [
       "  He_Stutters_Podcast_–_Make_Room_For_The_Stuttering  \\\n",
       "0  He_Stutters_Podcast_–_Make_Room_For_The_Stutte...   \n",
       "1  He_Stutters_Podcast_–_Make_Room_For_The_Stutte...   \n",
       "2  He_Stutters_Podcast_–_Make_Room_For_The_Stutte...   \n",
       "3  He_Stutters_Podcast_–_Make_Room_For_The_Stutte...   \n",
       "4  He_Stutters_Podcast_–_Make_Room_For_The_Stutte...   \n",
       "\n",
       "    episode-208-with-kelsey-h  \\\n",
       "0   episode-208-with-kelsey-h   \n",
       "1   episode-208-with-kelsey-h   \n",
       "2   episode-208-with-kelsey-h   \n",
       "3   episode-208-with-kelsey-h   \n",
       "4   episode-208-with-kelsey-h   \n",
       "\n",
       "   https://stutterrockstar.files.wordpress.com/2011/05/male-episode-1-with-alan1.mp3  \\\n",
       "0   https://stutterrockstar.files.wordpress.com/2...                                   \n",
       "1   https://stutterrockstar.files.wordpress.com/2...                                   \n",
       "2   https://stutterrockstar.files.wordpress.com/2...                                   \n",
       "3   https://stutterrockstar.files.wordpress.com/2...                                   \n",
       "4   https://stutterrockstar.files.wordpress.com/2...                                   \n",
       "\n",
       "    HeStutters   0  \n",
       "0   HeStutters   1  \n",
       "1   HeStutters   2  \n",
       "2   HeStutters   3  \n",
       "3   HeStutters   4  \n",
       "4   HeStutters   5  "
      ]
     },
     "execution_count": 17,
     "metadata": {},
     "output_type": "execute_result"
    }
   ],
   "source": [
    "sepk_ep.head()"
   ]
  },
  {
   "cell_type": "markdown",
   "metadata": {},
   "source": [
    "# SEP labels"
   ]
  },
  {
   "cell_type": "code",
   "execution_count": 5,
   "metadata": {},
   "outputs": [
    {
     "data": {
      "text/html": [
       "<div>\n",
       "<style scoped>\n",
       "    .dataframe tbody tr th:only-of-type {\n",
       "        vertical-align: middle;\n",
       "    }\n",
       "\n",
       "    .dataframe tbody tr th {\n",
       "        vertical-align: top;\n",
       "    }\n",
       "\n",
       "    .dataframe thead th {\n",
       "        text-align: right;\n",
       "    }\n",
       "</style>\n",
       "<table border=\"1\" class=\"dataframe\">\n",
       "  <thead>\n",
       "    <tr style=\"text-align: right;\">\n",
       "      <th></th>\n",
       "      <th>Show</th>\n",
       "      <th>EpId</th>\n",
       "      <th>ClipId</th>\n",
       "      <th>Start</th>\n",
       "      <th>Stop</th>\n",
       "      <th>Unsure</th>\n",
       "      <th>PoorAudioQuality</th>\n",
       "      <th>Prolongation</th>\n",
       "      <th>Block</th>\n",
       "      <th>SoundRep</th>\n",
       "      <th>WordRep</th>\n",
       "      <th>DifficultToUnderstand</th>\n",
       "      <th>Interjection</th>\n",
       "      <th>NoStutteredWords</th>\n",
       "      <th>NaturalPause</th>\n",
       "      <th>Music</th>\n",
       "      <th>NoSpeech</th>\n",
       "    </tr>\n",
       "  </thead>\n",
       "  <tbody>\n",
       "    <tr>\n",
       "      <th>0</th>\n",
       "      <td>HeStutters</td>\n",
       "      <td>0</td>\n",
       "      <td>0</td>\n",
       "      <td>31900320</td>\n",
       "      <td>31948320</td>\n",
       "      <td>0</td>\n",
       "      <td>0</td>\n",
       "      <td>0</td>\n",
       "      <td>0</td>\n",
       "      <td>0</td>\n",
       "      <td>0</td>\n",
       "      <td>0</td>\n",
       "      <td>0</td>\n",
       "      <td>3</td>\n",
       "      <td>1</td>\n",
       "      <td>0</td>\n",
       "      <td>0</td>\n",
       "    </tr>\n",
       "    <tr>\n",
       "      <th>1</th>\n",
       "      <td>HeStutters</td>\n",
       "      <td>0</td>\n",
       "      <td>1</td>\n",
       "      <td>31977120</td>\n",
       "      <td>32025120</td>\n",
       "      <td>0</td>\n",
       "      <td>0</td>\n",
       "      <td>0</td>\n",
       "      <td>0</td>\n",
       "      <td>0</td>\n",
       "      <td>0</td>\n",
       "      <td>0</td>\n",
       "      <td>0</td>\n",
       "      <td>3</td>\n",
       "      <td>1</td>\n",
       "      <td>0</td>\n",
       "      <td>0</td>\n",
       "    </tr>\n",
       "    <tr>\n",
       "      <th>2</th>\n",
       "      <td>HeStutters</td>\n",
       "      <td>0</td>\n",
       "      <td>2</td>\n",
       "      <td>34809760</td>\n",
       "      <td>34857760</td>\n",
       "      <td>0</td>\n",
       "      <td>0</td>\n",
       "      <td>0</td>\n",
       "      <td>0</td>\n",
       "      <td>0</td>\n",
       "      <td>0</td>\n",
       "      <td>0</td>\n",
       "      <td>0</td>\n",
       "      <td>3</td>\n",
       "      <td>0</td>\n",
       "      <td>0</td>\n",
       "      <td>0</td>\n",
       "    </tr>\n",
       "    <tr>\n",
       "      <th>3</th>\n",
       "      <td>HeStutters</td>\n",
       "      <td>0</td>\n",
       "      <td>3</td>\n",
       "      <td>35200640</td>\n",
       "      <td>35248640</td>\n",
       "      <td>0</td>\n",
       "      <td>0</td>\n",
       "      <td>1</td>\n",
       "      <td>0</td>\n",
       "      <td>0</td>\n",
       "      <td>0</td>\n",
       "      <td>0</td>\n",
       "      <td>0</td>\n",
       "      <td>2</td>\n",
       "      <td>0</td>\n",
       "      <td>0</td>\n",
       "      <td>0</td>\n",
       "    </tr>\n",
       "    <tr>\n",
       "      <th>4</th>\n",
       "      <td>HeStutters</td>\n",
       "      <td>0</td>\n",
       "      <td>4</td>\n",
       "      <td>35721920</td>\n",
       "      <td>35769920</td>\n",
       "      <td>0</td>\n",
       "      <td>0</td>\n",
       "      <td>0</td>\n",
       "      <td>0</td>\n",
       "      <td>0</td>\n",
       "      <td>0</td>\n",
       "      <td>0</td>\n",
       "      <td>0</td>\n",
       "      <td>3</td>\n",
       "      <td>0</td>\n",
       "      <td>0</td>\n",
       "      <td>0</td>\n",
       "    </tr>\n",
       "  </tbody>\n",
       "</table>\n",
       "</div>"
      ],
      "text/plain": [
       "         Show  EpId  ClipId     Start      Stop  Unsure  PoorAudioQuality  \\\n",
       "0  HeStutters     0       0  31900320  31948320       0                 0   \n",
       "1  HeStutters     0       1  31977120  32025120       0                 0   \n",
       "2  HeStutters     0       2  34809760  34857760       0                 0   \n",
       "3  HeStutters     0       3  35200640  35248640       0                 0   \n",
       "4  HeStutters     0       4  35721920  35769920       0                 0   \n",
       "\n",
       "   Prolongation  Block  SoundRep  WordRep  DifficultToUnderstand  \\\n",
       "0             0      0         0        0                      0   \n",
       "1             0      0         0        0                      0   \n",
       "2             0      0         0        0                      0   \n",
       "3             1      0         0        0                      0   \n",
       "4             0      0         0        0                      0   \n",
       "\n",
       "   Interjection  NoStutteredWords  NaturalPause  Music  NoSpeech  \n",
       "0             0                 3             1      0         0  \n",
       "1             0                 3             1      0         0  \n",
       "2             0                 3             0      0         0  \n",
       "3             0                 2             0      0         0  \n",
       "4             0                 3             0      0         0  "
      ]
     },
     "execution_count": 5,
     "metadata": {},
     "output_type": "execute_result"
    }
   ],
   "source": [
    "sepk_lab.head()"
   ]
  },
  {
   "cell_type": "code",
   "execution_count": 27,
   "metadata": {},
   "outputs": [
    {
     "data": {
      "text/plain": [
       "EpId\n",
       "6      1031\n",
       "2       991\n",
       "1       955\n",
       "0       818\n",
       "23      787\n",
       "       ... \n",
       "105      40\n",
       "106      40\n",
       "107      40\n",
       "108      40\n",
       "109      40\n",
       "Name: count, Length: 110, dtype: int64"
      ]
     },
     "execution_count": 27,
     "metadata": {},
     "output_type": "execute_result"
    }
   ],
   "source": [
    "sepk_lab.EpId.value_counts()"
   ]
  },
  {
   "cell_type": "code",
   "execution_count": 23,
   "metadata": {},
   "outputs": [
    {
     "data": {
      "text/plain": [
       "(28177, 17)"
      ]
     },
     "execution_count": 23,
     "metadata": {},
     "output_type": "execute_result"
    }
   ],
   "source": [
    "sepk_lab.shape"
   ]
  },
  {
   "cell_type": "code",
   "execution_count": 24,
   "metadata": {},
   "outputs": [
    {
     "data": {
      "text/plain": [
       "32321"
      ]
     },
     "execution_count": 24,
     "metadata": {},
     "output_type": "execute_result"
    }
   ],
   "source": [
    "28177+4144"
   ]
  },
  {
   "cell_type": "markdown",
   "metadata": {},
   "source": [
    "# Total Data"
   ]
  },
  {
   "cell_type": "code",
   "execution_count": 33,
   "metadata": {},
   "outputs": [
    {
     "data": {
      "text/plain": [
       "Index(['Show', 'EpId', 'ClipId', 'Start', 'Stop', 'Unsure', 'PoorAudioQuality',\n",
       "       'Prolongation', 'Block', 'SoundRep', 'WordRep', 'DifficultToUnderstand',\n",
       "       'Interjection', 'NoStutteredWords', 'NaturalPause', 'Music',\n",
       "       'NoSpeech'],\n",
       "      dtype='object')"
      ]
     },
     "execution_count": 33,
     "metadata": {},
     "output_type": "execute_result"
    }
   ],
   "source": [
    "sepk_lab.columns"
   ]
  },
  {
   "cell_type": "code",
   "execution_count": 34,
   "metadata": {},
   "outputs": [
    {
     "data": {
      "text/plain": [
       "Index(['Show', 'EpId', 'ClipId', 'Start', 'Stop', 'Unsure', 'PoorAudioQuality',\n",
       "       'Prolongation', 'Block', 'SoundRep', 'WordRep', 'DifficultToUnderstand',\n",
       "       'Interjection', 'NoStutteredWords', 'NaturalPause', 'Music',\n",
       "       'NoSpeech'],\n",
       "      dtype='object')"
      ]
     },
     "execution_count": 34,
     "metadata": {},
     "output_type": "execute_result"
    }
   ],
   "source": [
    "fl_lab.columns"
   ]
  },
  {
   "cell_type": "code",
   "execution_count": 11,
   "metadata": {},
   "outputs": [],
   "source": [
    "fl_lab.EpId = fl_lab.EpId.astype('str')\n",
    "processed_ep_num=[]\n",
    "for ind, row in fl_lab.iterrows():\n",
    "    if len(row.EpId)<3:\n",
    "        processed_ep_num.append('0' + row.EpId)\n",
    "    else:\n",
    "        processed_ep_num.append(row.EpId)\n",
    "        \n",
    "        \n",
    "fl_lab.EpId = processed_ep_num"
   ]
  },
  {
   "cell_type": "code",
   "execution_count": 103,
   "metadata": {},
   "outputs": [
    {
     "data": {
      "text/html": [
       "<div>\n",
       "<style scoped>\n",
       "    .dataframe tbody tr th:only-of-type {\n",
       "        vertical-align: middle;\n",
       "    }\n",
       "\n",
       "    .dataframe tbody tr th {\n",
       "        vertical-align: top;\n",
       "    }\n",
       "\n",
       "    .dataframe thead th {\n",
       "        text-align: right;\n",
       "    }\n",
       "</style>\n",
       "<table border=\"1\" class=\"dataframe\">\n",
       "  <thead>\n",
       "    <tr style=\"text-align: right;\">\n",
       "      <th></th>\n",
       "      <th>Show</th>\n",
       "      <th>EpId</th>\n",
       "      <th>ClipId</th>\n",
       "      <th>Start</th>\n",
       "      <th>Stop</th>\n",
       "      <th>Unsure</th>\n",
       "      <th>PoorAudioQuality</th>\n",
       "      <th>Prolongation</th>\n",
       "      <th>Block</th>\n",
       "      <th>SoundRep</th>\n",
       "      <th>WordRep</th>\n",
       "      <th>DifficultToUnderstand</th>\n",
       "      <th>Interjection</th>\n",
       "      <th>NoStutteredWords</th>\n",
       "      <th>NaturalPause</th>\n",
       "      <th>Music</th>\n",
       "      <th>NoSpeech</th>\n",
       "    </tr>\n",
       "  </thead>\n",
       "  <tbody>\n",
       "    <tr>\n",
       "      <th>0</th>\n",
       "      <td>FluencyBank</td>\n",
       "      <td>010</td>\n",
       "      <td>0</td>\n",
       "      <td>88960</td>\n",
       "      <td>136960</td>\n",
       "      <td>0</td>\n",
       "      <td>0</td>\n",
       "      <td>0</td>\n",
       "      <td>1</td>\n",
       "      <td>0</td>\n",
       "      <td>0</td>\n",
       "      <td>0</td>\n",
       "      <td>0</td>\n",
       "      <td>2</td>\n",
       "      <td>0</td>\n",
       "      <td>0</td>\n",
       "      <td>0</td>\n",
       "    </tr>\n",
       "    <tr>\n",
       "      <th>1</th>\n",
       "      <td>FluencyBank</td>\n",
       "      <td>010</td>\n",
       "      <td>1</td>\n",
       "      <td>1271520</td>\n",
       "      <td>1319520</td>\n",
       "      <td>0</td>\n",
       "      <td>0</td>\n",
       "      <td>0</td>\n",
       "      <td>0</td>\n",
       "      <td>0</td>\n",
       "      <td>0</td>\n",
       "      <td>0</td>\n",
       "      <td>0</td>\n",
       "      <td>3</td>\n",
       "      <td>0</td>\n",
       "      <td>0</td>\n",
       "      <td>0</td>\n",
       "    </tr>\n",
       "    <tr>\n",
       "      <th>2</th>\n",
       "      <td>FluencyBank</td>\n",
       "      <td>010</td>\n",
       "      <td>2</td>\n",
       "      <td>1813760</td>\n",
       "      <td>1861760</td>\n",
       "      <td>0</td>\n",
       "      <td>0</td>\n",
       "      <td>1</td>\n",
       "      <td>0</td>\n",
       "      <td>0</td>\n",
       "      <td>0</td>\n",
       "      <td>0</td>\n",
       "      <td>0</td>\n",
       "      <td>2</td>\n",
       "      <td>0</td>\n",
       "      <td>0</td>\n",
       "      <td>0</td>\n",
       "    </tr>\n",
       "    <tr>\n",
       "      <th>3</th>\n",
       "      <td>FluencyBank</td>\n",
       "      <td>010</td>\n",
       "      <td>3</td>\n",
       "      <td>1842720</td>\n",
       "      <td>1890720</td>\n",
       "      <td>0</td>\n",
       "      <td>0</td>\n",
       "      <td>1</td>\n",
       "      <td>0</td>\n",
       "      <td>0</td>\n",
       "      <td>0</td>\n",
       "      <td>0</td>\n",
       "      <td>0</td>\n",
       "      <td>2</td>\n",
       "      <td>1</td>\n",
       "      <td>0</td>\n",
       "      <td>0</td>\n",
       "    </tr>\n",
       "    <tr>\n",
       "      <th>4</th>\n",
       "      <td>FluencyBank</td>\n",
       "      <td>010</td>\n",
       "      <td>4</td>\n",
       "      <td>1893280</td>\n",
       "      <td>1941280</td>\n",
       "      <td>0</td>\n",
       "      <td>0</td>\n",
       "      <td>0</td>\n",
       "      <td>0</td>\n",
       "      <td>0</td>\n",
       "      <td>3</td>\n",
       "      <td>0</td>\n",
       "      <td>0</td>\n",
       "      <td>0</td>\n",
       "      <td>0</td>\n",
       "      <td>0</td>\n",
       "      <td>0</td>\n",
       "    </tr>\n",
       "  </tbody>\n",
       "</table>\n",
       "</div>"
      ],
      "text/plain": [
       "          Show EpId  ClipId    Start     Stop  Unsure  PoorAudioQuality  \\\n",
       "0  FluencyBank  010       0    88960   136960       0                 0   \n",
       "1  FluencyBank  010       1  1271520  1319520       0                 0   \n",
       "2  FluencyBank  010       2  1813760  1861760       0                 0   \n",
       "3  FluencyBank  010       3  1842720  1890720       0                 0   \n",
       "4  FluencyBank  010       4  1893280  1941280       0                 0   \n",
       "\n",
       "   Prolongation  Block  SoundRep  WordRep  DifficultToUnderstand  \\\n",
       "0             0      1         0        0                      0   \n",
       "1             0      0         0        0                      0   \n",
       "2             1      0         0        0                      0   \n",
       "3             1      0         0        0                      0   \n",
       "4             0      0         0        3                      0   \n",
       "\n",
       "   Interjection  NoStutteredWords  NaturalPause  Music  NoSpeech  \n",
       "0             0                 2             0      0         0  \n",
       "1             0                 3             0      0         0  \n",
       "2             0                 2             0      0         0  \n",
       "3             0                 2             1      0         0  \n",
       "4             0                 0             0      0         0  "
      ]
     },
     "execution_count": 103,
     "metadata": {},
     "output_type": "execute_result"
    }
   ],
   "source": [
    "fl_lab.head()"
   ]
  },
  {
   "cell_type": "code",
   "execution_count": 12,
   "metadata": {},
   "outputs": [],
   "source": [
    "df = pd.concat([sepk_lab, fl_lab], ignore_index=True, axis=0)"
   ]
  },
  {
   "cell_type": "code",
   "execution_count": 13,
   "metadata": {},
   "outputs": [
    {
     "data": {
      "text/plain": [
       "(32321, 17)"
      ]
     },
     "execution_count": 13,
     "metadata": {},
     "output_type": "execute_result"
    }
   ],
   "source": [
    "df.shape"
   ]
  },
  {
   "cell_type": "code",
   "execution_count": 14,
   "metadata": {},
   "outputs": [],
   "source": [
    "df = df[df.PoorAudioQuality == 0]\n",
    "df = df[df.DifficultToUnderstand == 0]\n",
    "df = df[df.Music == 0]\n",
    "df = df[df.NoSpeech == 0]\n",
    "df = df[df.NoStutteredWords != 0]\n",
    "df = df[df.NaturalPause == 0]\n"
   ]
  },
  {
   "cell_type": "code",
   "execution_count": 15,
   "metadata": {},
   "outputs": [],
   "source": [
    "df['label'] = (df['SoundRep'] >= 1.0).astype(int)"
   ]
  },
  {
   "cell_type": "code",
   "execution_count": 16,
   "metadata": {},
   "outputs": [
    {
     "data": {
      "text/html": [
       "<div>\n",
       "<style scoped>\n",
       "    .dataframe tbody tr th:only-of-type {\n",
       "        vertical-align: middle;\n",
       "    }\n",
       "\n",
       "    .dataframe tbody tr th {\n",
       "        vertical-align: top;\n",
       "    }\n",
       "\n",
       "    .dataframe thead th {\n",
       "        text-align: right;\n",
       "    }\n",
       "</style>\n",
       "<table border=\"1\" class=\"dataframe\">\n",
       "  <thead>\n",
       "    <tr style=\"text-align: right;\">\n",
       "      <th></th>\n",
       "      <th>Show</th>\n",
       "      <th>EpId</th>\n",
       "      <th>ClipId</th>\n",
       "      <th>Start</th>\n",
       "      <th>Stop</th>\n",
       "      <th>Unsure</th>\n",
       "      <th>PoorAudioQuality</th>\n",
       "      <th>Prolongation</th>\n",
       "      <th>Block</th>\n",
       "      <th>SoundRep</th>\n",
       "      <th>WordRep</th>\n",
       "      <th>DifficultToUnderstand</th>\n",
       "      <th>Interjection</th>\n",
       "      <th>NoStutteredWords</th>\n",
       "      <th>NaturalPause</th>\n",
       "      <th>Music</th>\n",
       "      <th>NoSpeech</th>\n",
       "      <th>label</th>\n",
       "    </tr>\n",
       "  </thead>\n",
       "  <tbody>\n",
       "    <tr>\n",
       "      <th>2</th>\n",
       "      <td>HeStutters</td>\n",
       "      <td>0</td>\n",
       "      <td>2</td>\n",
       "      <td>34809760</td>\n",
       "      <td>34857760</td>\n",
       "      <td>0</td>\n",
       "      <td>0</td>\n",
       "      <td>0</td>\n",
       "      <td>0</td>\n",
       "      <td>0</td>\n",
       "      <td>0</td>\n",
       "      <td>0</td>\n",
       "      <td>0</td>\n",
       "      <td>3</td>\n",
       "      <td>0</td>\n",
       "      <td>0</td>\n",
       "      <td>0</td>\n",
       "      <td>0</td>\n",
       "    </tr>\n",
       "    <tr>\n",
       "      <th>3</th>\n",
       "      <td>HeStutters</td>\n",
       "      <td>0</td>\n",
       "      <td>3</td>\n",
       "      <td>35200640</td>\n",
       "      <td>35248640</td>\n",
       "      <td>0</td>\n",
       "      <td>0</td>\n",
       "      <td>1</td>\n",
       "      <td>0</td>\n",
       "      <td>0</td>\n",
       "      <td>0</td>\n",
       "      <td>0</td>\n",
       "      <td>0</td>\n",
       "      <td>2</td>\n",
       "      <td>0</td>\n",
       "      <td>0</td>\n",
       "      <td>0</td>\n",
       "      <td>0</td>\n",
       "    </tr>\n",
       "    <tr>\n",
       "      <th>4</th>\n",
       "      <td>HeStutters</td>\n",
       "      <td>0</td>\n",
       "      <td>4</td>\n",
       "      <td>35721920</td>\n",
       "      <td>35769920</td>\n",
       "      <td>0</td>\n",
       "      <td>0</td>\n",
       "      <td>0</td>\n",
       "      <td>0</td>\n",
       "      <td>0</td>\n",
       "      <td>0</td>\n",
       "      <td>0</td>\n",
       "      <td>0</td>\n",
       "      <td>3</td>\n",
       "      <td>0</td>\n",
       "      <td>0</td>\n",
       "      <td>0</td>\n",
       "      <td>0</td>\n",
       "    </tr>\n",
       "    <tr>\n",
       "      <th>5</th>\n",
       "      <td>HeStutters</td>\n",
       "      <td>0</td>\n",
       "      <td>5</td>\n",
       "      <td>36435040</td>\n",
       "      <td>36483040</td>\n",
       "      <td>0</td>\n",
       "      <td>0</td>\n",
       "      <td>1</td>\n",
       "      <td>0</td>\n",
       "      <td>0</td>\n",
       "      <td>0</td>\n",
       "      <td>0</td>\n",
       "      <td>0</td>\n",
       "      <td>2</td>\n",
       "      <td>0</td>\n",
       "      <td>0</td>\n",
       "      <td>0</td>\n",
       "      <td>0</td>\n",
       "    </tr>\n",
       "    <tr>\n",
       "      <th>6</th>\n",
       "      <td>HeStutters</td>\n",
       "      <td>0</td>\n",
       "      <td>6</td>\n",
       "      <td>37251200</td>\n",
       "      <td>37299200</td>\n",
       "      <td>0</td>\n",
       "      <td>0</td>\n",
       "      <td>0</td>\n",
       "      <td>0</td>\n",
       "      <td>0</td>\n",
       "      <td>0</td>\n",
       "      <td>0</td>\n",
       "      <td>0</td>\n",
       "      <td>3</td>\n",
       "      <td>0</td>\n",
       "      <td>0</td>\n",
       "      <td>0</td>\n",
       "      <td>0</td>\n",
       "    </tr>\n",
       "  </tbody>\n",
       "</table>\n",
       "</div>"
      ],
      "text/plain": [
       "         Show EpId  ClipId     Start      Stop  Unsure  PoorAudioQuality  \\\n",
       "2  HeStutters    0       2  34809760  34857760       0                 0   \n",
       "3  HeStutters    0       3  35200640  35248640       0                 0   \n",
       "4  HeStutters    0       4  35721920  35769920       0                 0   \n",
       "5  HeStutters    0       5  36435040  36483040       0                 0   \n",
       "6  HeStutters    0       6  37251200  37299200       0                 0   \n",
       "\n",
       "   Prolongation  Block  SoundRep  WordRep  DifficultToUnderstand  \\\n",
       "2             0      0         0        0                      0   \n",
       "3             1      0         0        0                      0   \n",
       "4             0      0         0        0                      0   \n",
       "5             1      0         0        0                      0   \n",
       "6             0      0         0        0                      0   \n",
       "\n",
       "   Interjection  NoStutteredWords  NaturalPause  Music  NoSpeech  label  \n",
       "2             0                 3             0      0         0      0  \n",
       "3             0                 2             0      0         0      0  \n",
       "4             0                 3             0      0         0      0  \n",
       "5             0                 2             0      0         0      0  \n",
       "6             0                 3             0      0         0      0  "
      ]
     },
     "execution_count": 16,
     "metadata": {},
     "output_type": "execute_result"
    }
   ],
   "source": [
    "df.head()"
   ]
  },
  {
   "cell_type": "code",
   "execution_count": 17,
   "metadata": {},
   "outputs": [
    {
     "data": {
      "text/plain": [
       "Unsure\n",
       "0    10736\n",
       "1      119\n",
       "2        1\n",
       "Name: count, dtype: int64"
      ]
     },
     "execution_count": 17,
     "metadata": {},
     "output_type": "execute_result"
    }
   ],
   "source": [
    "df.Unsure.value_counts()"
   ]
  },
  {
   "cell_type": "code",
   "execution_count": 19,
   "metadata": {},
   "outputs": [
    {
     "data": {
      "text/plain": [
       "(10856, 18)"
      ]
     },
     "execution_count": 19,
     "metadata": {},
     "output_type": "execute_result"
    }
   ],
   "source": [
    "df.shape"
   ]
  },
  {
   "cell_type": "code",
   "execution_count": 20,
   "metadata": {},
   "outputs": [
    {
     "data": {
      "text/plain": [
       "EpId\n",
       "024    123\n",
       "099    114\n",
       "178    100\n",
       "063     93\n",
       "230     92\n",
       "985     91\n",
       "111     78\n",
       "046     75\n",
       "121     70\n",
       "097     69\n",
       "219     68\n",
       "118     64\n",
       "081     61\n",
       "016     61\n",
       "107     58\n",
       "010     57\n",
       "089     57\n",
       "098     52\n",
       "031     50\n",
       "147     44\n",
       "109     43\n",
       "096     42\n",
       "087     40\n",
       "017     39\n",
       "093     38\n",
       "218     35\n",
       "179     34\n",
       "019     33\n",
       "132     31\n",
       "173     27\n",
       "076     24\n",
       "193     24\n",
       "071     18\n",
       "Name: count, dtype: int64"
      ]
     },
     "execution_count": 20,
     "metadata": {},
     "output_type": "execute_result"
    }
   ],
   "source": [
    "df[df.Show=='FluencyBank'].EpId.value_counts()"
   ]
  },
  {
   "cell_type": "code",
   "execution_count": 21,
   "metadata": {},
   "outputs": [],
   "source": [
    "file_names = []\n",
    "for ind, row in df.iterrows():\n",
    "    file_name = f'{row.Show}_{row.EpId}_{row.ClipId}.wav'\n",
    "    file_names.append(file_name)"
   ]
  },
  {
   "cell_type": "code",
   "execution_count": 22,
   "metadata": {},
   "outputs": [],
   "source": [
    "df['fil_name'] = file_names"
   ]
  },
  {
   "cell_type": "code",
   "execution_count": 23,
   "metadata": {},
   "outputs": [],
   "source": [
    "found_files=[]\n",
    "for ind, row in df.iterrows():\n",
    "    if row.fil_name in dir_list:\n",
    "        found_files.append(row.fil_name)"
   ]
  },
  {
   "cell_type": "code",
   "execution_count": 24,
   "metadata": {},
   "outputs": [
    {
     "data": {
      "text/plain": [
       "(10714, 31908)"
      ]
     },
     "execution_count": 24,
     "metadata": {},
     "output_type": "execute_result"
    }
   ],
   "source": [
    "len(found_files), len(dir_list)"
   ]
  },
  {
   "cell_type": "code",
   "execution_count": 27,
   "metadata": {},
   "outputs": [],
   "source": [
    "df_existing_files = df[df['fil_name'].isin(found_files)]"
   ]
  },
  {
   "cell_type": "code",
   "execution_count": 31,
   "metadata": {},
   "outputs": [],
   "source": [
    "df_existing_files = df_existing_files.reset_index()"
   ]
  },
  {
   "cell_type": "code",
   "execution_count": 32,
   "metadata": {},
   "outputs": [
    {
     "data": {
      "text/html": [
       "<div>\n",
       "<style scoped>\n",
       "    .dataframe tbody tr th:only-of-type {\n",
       "        vertical-align: middle;\n",
       "    }\n",
       "\n",
       "    .dataframe tbody tr th {\n",
       "        vertical-align: top;\n",
       "    }\n",
       "\n",
       "    .dataframe thead th {\n",
       "        text-align: right;\n",
       "    }\n",
       "</style>\n",
       "<table border=\"1\" class=\"dataframe\">\n",
       "  <thead>\n",
       "    <tr style=\"text-align: right;\">\n",
       "      <th></th>\n",
       "      <th>index</th>\n",
       "      <th>Show</th>\n",
       "      <th>EpId</th>\n",
       "      <th>ClipId</th>\n",
       "      <th>Start</th>\n",
       "      <th>Stop</th>\n",
       "      <th>Unsure</th>\n",
       "      <th>PoorAudioQuality</th>\n",
       "      <th>Prolongation</th>\n",
       "      <th>Block</th>\n",
       "      <th>SoundRep</th>\n",
       "      <th>WordRep</th>\n",
       "      <th>DifficultToUnderstand</th>\n",
       "      <th>Interjection</th>\n",
       "      <th>NoStutteredWords</th>\n",
       "      <th>NaturalPause</th>\n",
       "      <th>Music</th>\n",
       "      <th>NoSpeech</th>\n",
       "      <th>label</th>\n",
       "      <th>fil_name</th>\n",
       "    </tr>\n",
       "  </thead>\n",
       "  <tbody>\n",
       "    <tr>\n",
       "      <th>0</th>\n",
       "      <td>19</td>\n",
       "      <td>HeStutters</td>\n",
       "      <td>0</td>\n",
       "      <td>19</td>\n",
       "      <td>9985280</td>\n",
       "      <td>10033280</td>\n",
       "      <td>0</td>\n",
       "      <td>0</td>\n",
       "      <td>1</td>\n",
       "      <td>0</td>\n",
       "      <td>0</td>\n",
       "      <td>0</td>\n",
       "      <td>0</td>\n",
       "      <td>0</td>\n",
       "      <td>2</td>\n",
       "      <td>0</td>\n",
       "      <td>0</td>\n",
       "      <td>0</td>\n",
       "      <td>0</td>\n",
       "      <td>HeStutters_0_19.wav</td>\n",
       "    </tr>\n",
       "    <tr>\n",
       "      <th>1</th>\n",
       "      <td>20</td>\n",
       "      <td>HeStutters</td>\n",
       "      <td>0</td>\n",
       "      <td>20</td>\n",
       "      <td>11197600</td>\n",
       "      <td>11245600</td>\n",
       "      <td>0</td>\n",
       "      <td>0</td>\n",
       "      <td>0</td>\n",
       "      <td>0</td>\n",
       "      <td>0</td>\n",
       "      <td>0</td>\n",
       "      <td>0</td>\n",
       "      <td>0</td>\n",
       "      <td>3</td>\n",
       "      <td>0</td>\n",
       "      <td>0</td>\n",
       "      <td>0</td>\n",
       "      <td>0</td>\n",
       "      <td>HeStutters_0_20.wav</td>\n",
       "    </tr>\n",
       "    <tr>\n",
       "      <th>2</th>\n",
       "      <td>26</td>\n",
       "      <td>HeStutters</td>\n",
       "      <td>0</td>\n",
       "      <td>26</td>\n",
       "      <td>3562240</td>\n",
       "      <td>3610240</td>\n",
       "      <td>0</td>\n",
       "      <td>0</td>\n",
       "      <td>0</td>\n",
       "      <td>0</td>\n",
       "      <td>0</td>\n",
       "      <td>0</td>\n",
       "      <td>0</td>\n",
       "      <td>0</td>\n",
       "      <td>3</td>\n",
       "      <td>0</td>\n",
       "      <td>0</td>\n",
       "      <td>0</td>\n",
       "      <td>0</td>\n",
       "      <td>HeStutters_0_26.wav</td>\n",
       "    </tr>\n",
       "    <tr>\n",
       "      <th>3</th>\n",
       "      <td>41</td>\n",
       "      <td>HeStutters</td>\n",
       "      <td>1</td>\n",
       "      <td>1</td>\n",
       "      <td>27906400</td>\n",
       "      <td>27954400</td>\n",
       "      <td>0</td>\n",
       "      <td>0</td>\n",
       "      <td>0</td>\n",
       "      <td>0</td>\n",
       "      <td>0</td>\n",
       "      <td>1</td>\n",
       "      <td>0</td>\n",
       "      <td>1</td>\n",
       "      <td>2</td>\n",
       "      <td>0</td>\n",
       "      <td>0</td>\n",
       "      <td>0</td>\n",
       "      <td>0</td>\n",
       "      <td>HeStutters_1_1.wav</td>\n",
       "    </tr>\n",
       "    <tr>\n",
       "      <th>4</th>\n",
       "      <td>44</td>\n",
       "      <td>HeStutters</td>\n",
       "      <td>1</td>\n",
       "      <td>4</td>\n",
       "      <td>28351360</td>\n",
       "      <td>28399360</td>\n",
       "      <td>0</td>\n",
       "      <td>0</td>\n",
       "      <td>0</td>\n",
       "      <td>0</td>\n",
       "      <td>0</td>\n",
       "      <td>0</td>\n",
       "      <td>0</td>\n",
       "      <td>0</td>\n",
       "      <td>3</td>\n",
       "      <td>0</td>\n",
       "      <td>0</td>\n",
       "      <td>0</td>\n",
       "      <td>0</td>\n",
       "      <td>HeStutters_1_4.wav</td>\n",
       "    </tr>\n",
       "  </tbody>\n",
       "</table>\n",
       "</div>"
      ],
      "text/plain": [
       "   index        Show EpId  ClipId     Start      Stop  Unsure  \\\n",
       "0     19  HeStutters    0      19   9985280  10033280       0   \n",
       "1     20  HeStutters    0      20  11197600  11245600       0   \n",
       "2     26  HeStutters    0      26   3562240   3610240       0   \n",
       "3     41  HeStutters    1       1  27906400  27954400       0   \n",
       "4     44  HeStutters    1       4  28351360  28399360       0   \n",
       "\n",
       "   PoorAudioQuality  Prolongation  Block  SoundRep  WordRep  \\\n",
       "0                 0             1      0         0        0   \n",
       "1                 0             0      0         0        0   \n",
       "2                 0             0      0         0        0   \n",
       "3                 0             0      0         0        1   \n",
       "4                 0             0      0         0        0   \n",
       "\n",
       "   DifficultToUnderstand  Interjection  NoStutteredWords  NaturalPause  Music  \\\n",
       "0                      0             0                 2             0      0   \n",
       "1                      0             0                 3             0      0   \n",
       "2                      0             0                 3             0      0   \n",
       "3                      0             1                 2             0      0   \n",
       "4                      0             0                 3             0      0   \n",
       "\n",
       "   NoSpeech  label             fil_name  \n",
       "0         0      0  HeStutters_0_19.wav  \n",
       "1         0      0  HeStutters_0_20.wav  \n",
       "2         0      0  HeStutters_0_26.wav  \n",
       "3         0      0   HeStutters_1_1.wav  \n",
       "4         0      0   HeStutters_1_4.wav  "
      ]
     },
     "execution_count": 32,
     "metadata": {},
     "output_type": "execute_result"
    }
   ],
   "source": [
    "df_existing_files.head()"
   ]
  },
  {
   "cell_type": "code",
   "execution_count": 33,
   "metadata": {},
   "outputs": [],
   "source": [
    "df_relevant_columns = df_existing_files[['Show', 'label', 'fil_name']]"
   ]
  },
  {
   "cell_type": "code",
   "execution_count": 34,
   "metadata": {},
   "outputs": [
    {
     "data": {
      "text/html": [
       "<div>\n",
       "<style scoped>\n",
       "    .dataframe tbody tr th:only-of-type {\n",
       "        vertical-align: middle;\n",
       "    }\n",
       "\n",
       "    .dataframe tbody tr th {\n",
       "        vertical-align: top;\n",
       "    }\n",
       "\n",
       "    .dataframe thead th {\n",
       "        text-align: right;\n",
       "    }\n",
       "</style>\n",
       "<table border=\"1\" class=\"dataframe\">\n",
       "  <thead>\n",
       "    <tr style=\"text-align: right;\">\n",
       "      <th></th>\n",
       "      <th>Show</th>\n",
       "      <th>label</th>\n",
       "      <th>fil_name</th>\n",
       "    </tr>\n",
       "  </thead>\n",
       "  <tbody>\n",
       "    <tr>\n",
       "      <th>0</th>\n",
       "      <td>HeStutters</td>\n",
       "      <td>0</td>\n",
       "      <td>HeStutters_0_19.wav</td>\n",
       "    </tr>\n",
       "    <tr>\n",
       "      <th>1</th>\n",
       "      <td>HeStutters</td>\n",
       "      <td>0</td>\n",
       "      <td>HeStutters_0_20.wav</td>\n",
       "    </tr>\n",
       "    <tr>\n",
       "      <th>2</th>\n",
       "      <td>HeStutters</td>\n",
       "      <td>0</td>\n",
       "      <td>HeStutters_0_26.wav</td>\n",
       "    </tr>\n",
       "    <tr>\n",
       "      <th>3</th>\n",
       "      <td>HeStutters</td>\n",
       "      <td>0</td>\n",
       "      <td>HeStutters_1_1.wav</td>\n",
       "    </tr>\n",
       "    <tr>\n",
       "      <th>4</th>\n",
       "      <td>HeStutters</td>\n",
       "      <td>0</td>\n",
       "      <td>HeStutters_1_4.wav</td>\n",
       "    </tr>\n",
       "  </tbody>\n",
       "</table>\n",
       "</div>"
      ],
      "text/plain": [
       "         Show  label             fil_name\n",
       "0  HeStutters      0  HeStutters_0_19.wav\n",
       "1  HeStutters      0  HeStutters_0_20.wav\n",
       "2  HeStutters      0  HeStutters_0_26.wav\n",
       "3  HeStutters      0   HeStutters_1_1.wav\n",
       "4  HeStutters      0   HeStutters_1_4.wav"
      ]
     },
     "execution_count": 34,
     "metadata": {},
     "output_type": "execute_result"
    }
   ],
   "source": [
    "df_relevant_columns.head()"
   ]
  },
  {
   "cell_type": "code",
   "execution_count": 35,
   "metadata": {},
   "outputs": [
    {
     "data": {
      "text/html": [
       "<div>\n",
       "<style scoped>\n",
       "    .dataframe tbody tr th:only-of-type {\n",
       "        vertical-align: middle;\n",
       "    }\n",
       "\n",
       "    .dataframe tbody tr th {\n",
       "        vertical-align: top;\n",
       "    }\n",
       "\n",
       "    .dataframe thead th {\n",
       "        text-align: right;\n",
       "    }\n",
       "</style>\n",
       "<table border=\"1\" class=\"dataframe\">\n",
       "  <thead>\n",
       "    <tr style=\"text-align: right;\">\n",
       "      <th></th>\n",
       "      <th>Show</th>\n",
       "      <th>label</th>\n",
       "      <th>fil_name</th>\n",
       "    </tr>\n",
       "  </thead>\n",
       "  <tbody>\n",
       "    <tr>\n",
       "      <th>8885</th>\n",
       "      <td>FluencyBank</td>\n",
       "      <td>0</td>\n",
       "      <td>FluencyBank_010_0.wav</td>\n",
       "    </tr>\n",
       "    <tr>\n",
       "      <th>8886</th>\n",
       "      <td>FluencyBank</td>\n",
       "      <td>0</td>\n",
       "      <td>FluencyBank_010_1.wav</td>\n",
       "    </tr>\n",
       "    <tr>\n",
       "      <th>8887</th>\n",
       "      <td>FluencyBank</td>\n",
       "      <td>0</td>\n",
       "      <td>FluencyBank_010_2.wav</td>\n",
       "    </tr>\n",
       "    <tr>\n",
       "      <th>8888</th>\n",
       "      <td>FluencyBank</td>\n",
       "      <td>0</td>\n",
       "      <td>FluencyBank_010_6.wav</td>\n",
       "    </tr>\n",
       "    <tr>\n",
       "      <th>8889</th>\n",
       "      <td>FluencyBank</td>\n",
       "      <td>0</td>\n",
       "      <td>FluencyBank_010_8.wav</td>\n",
       "    </tr>\n",
       "  </tbody>\n",
       "</table>\n",
       "</div>"
      ],
      "text/plain": [
       "             Show  label               fil_name\n",
       "8885  FluencyBank      0  FluencyBank_010_0.wav\n",
       "8886  FluencyBank      0  FluencyBank_010_1.wav\n",
       "8887  FluencyBank      0  FluencyBank_010_2.wav\n",
       "8888  FluencyBank      0  FluencyBank_010_6.wav\n",
       "8889  FluencyBank      0  FluencyBank_010_8.wav"
      ]
     },
     "execution_count": 35,
     "metadata": {},
     "output_type": "execute_result"
    }
   ],
   "source": [
    "df_relevant_columns[df_relevant_columns.Show=='FluencyBank'].head()"
   ]
  },
  {
   "cell_type": "code",
   "execution_count": 36,
   "metadata": {},
   "outputs": [],
   "source": [
    "df_relevant_columns.to_csv('../data/processed_data.csv')"
   ]
  },
  {
   "cell_type": "code",
   "execution_count": 118,
   "metadata": {},
   "outputs": [
    {
     "data": {
      "text/plain": [
       "label\n",
       "0    9860\n",
       "1     996\n",
       "Name: count, dtype: int64"
      ]
     },
     "execution_count": 118,
     "metadata": {},
     "output_type": "execute_result"
    }
   ],
   "source": [
    "df_relevant_columns.label.value_counts()"
   ]
  },
  {
   "cell_type": "code",
   "execution_count": 80,
   "metadata": {},
   "outputs": [],
   "source": [
    "import torch"
   ]
  },
  {
   "cell_type": "code",
   "execution_count": 81,
   "metadata": {},
   "outputs": [
    {
     "data": {
      "text/plain": [
       "False"
      ]
     },
     "execution_count": 81,
     "metadata": {},
     "output_type": "execute_result"
    }
   ],
   "source": [
    "torch.cuda.is_available()"
   ]
  },
  {
   "cell_type": "code",
   "execution_count": null,
   "metadata": {},
   "outputs": [],
   "source": [
    "df_relevant_columns"
   ]
  }
 ],
 "metadata": {
  "kernelspec": {
   "display_name": "Python 3",
   "language": "python",
   "name": "python3"
  },
  "language_info": {
   "codemirror_mode": {
    "name": "ipython",
    "version": 3
   },
   "file_extension": ".py",
   "mimetype": "text/x-python",
   "name": "python",
   "nbconvert_exporter": "python",
   "pygments_lexer": "ipython3",
   "version": "3.13.0"
  }
 },
 "nbformat": 4,
 "nbformat_minor": 2
}
